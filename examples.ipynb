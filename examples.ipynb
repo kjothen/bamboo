{
 "cells": [
  {
   "cell_type": "code",
   "execution_count": 22,
   "metadata": {},
   "outputs": [],
   "source": [
    "import pandas as pd\n",
    "import numpy as np"
   ]
  },
  {
   "cell_type": "code",
   "execution_count": 14,
   "metadata": {},
   "outputs": [],
   "source": [
    "# Create a dataframe from a CSV file:\n",
    "df = pd.read_csv(\"kepler.csv.gz\", skiprows=53)"
   ]
  },
  {
   "cell_type": "code",
   "execution_count": 15,
   "metadata": {},
   "outputs": [
    {
     "name": "stdout",
     "output_type": "stream",
     "text": [
      "         kepid kepoi_name   kepler_name koi_disposition  koi_score\n",
      "0     10797460  K00752.01  Kepler-227 b       CONFIRMED      1.000\n",
      "1     10797460  K00752.02  Kepler-227 c       CONFIRMED      0.969\n",
      "...        ...        ...           ...             ...        ...\n",
      "9562  10155286  K07988.01           NaN       CANDIDATE      0.092\n",
      "9563  10156110  K07989.01           NaN  FALSE POSITIVE      0.000\n"
     ]
    }
   ],
   "source": [
    "# Show a snippet of the dataframe:\n",
    "cols = ['kepid', 'kepoi_name', 'kepler_name', 'koi_disposition', 'koi_score']\n",
    "print (df.to_string(columns=cols, max_rows=4))\n"
   ]
  },
  {
   "cell_type": "code",
   "execution_count": 16,
   "metadata": {},
   "outputs": [
    {
     "data": {
      "text/plain": [
       "Index(['kepid', 'kepoi_name', 'kepler_name', 'koi_disposition',\n",
       "       'koi_pdisposition', 'koi_score', 'koi_fpflag_nt', 'koi_fpflag_ss',\n",
       "       'koi_fpflag_co', 'koi_fpflag_ec', 'koi_period', 'koi_period_err1',\n",
       "       'koi_period_err2', 'koi_time0bk', 'koi_time0bk_err1',\n",
       "       'koi_time0bk_err2', 'koi_impact', 'koi_impact_err1', 'koi_impact_err2',\n",
       "       'koi_duration', 'koi_duration_err1', 'koi_duration_err2', 'koi_depth',\n",
       "       'koi_depth_err1', 'koi_depth_err2', 'koi_prad', 'koi_prad_err1',\n",
       "       'koi_prad_err2', 'koi_teq', 'koi_teq_err1', 'koi_teq_err2', 'koi_insol',\n",
       "       'koi_insol_err1', 'koi_insol_err2', 'koi_model_snr', 'koi_tce_plnt_num',\n",
       "       'koi_tce_delivname', 'koi_steff', 'koi_steff_err1', 'koi_steff_err2',\n",
       "       'koi_slogg', 'koi_slogg_err1', 'koi_slogg_err2', 'koi_srad',\n",
       "       'koi_srad_err1', 'koi_srad_err2', 'ra', 'dec', 'koi_kepmag'],\n",
       "      dtype='object')"
      ]
     },
     "execution_count": 16,
     "metadata": {},
     "output_type": "execute_result"
    }
   ],
   "source": [
    "# Show all the columns:\n",
    "df.columns"
   ]
  },
  {
   "cell_type": "code",
   "execution_count": 17,
   "metadata": {},
   "outputs": [
    {
     "name": "stdout",
     "output_type": "stream",
     "text": [
      "         kepid kepoi_name   kepler_name koi_disposition  koi_score\n",
      "0     10797460  K00752.01  Kepler-227 b       CONFIRMED      1.000\n",
      "1     10797460  K00752.02  Kepler-227 c       CONFIRMED      0.969\n",
      "...        ...        ...           ...             ...        ...\n",
      "9562  10155286  K07988.01           NaN       CANDIDATE      0.092\n",
      "9563  10156110  K07989.01           NaN  FALSE POSITIVE      0.000\n"
     ]
    }
   ],
   "source": [
    "# Show data for specific columns: \n",
    "cols = ['kepid', 'kepoi_name', 'kepler_name', 'koi_disposition', 'koi_score']\n",
    "print (df.to_string(columns=cols, max_rows=4))"
   ]
  },
  {
   "cell_type": "code",
   "execution_count": 18,
   "metadata": {},
   "outputs": [
    {
     "name": "stdout",
     "output_type": "stream",
     "text": [
      "         kepid kepoi_name    kepler_name koi_disposition  koi_score\n",
      "0     10797460  K00752.01   Kepler-227 b       CONFIRMED        1.0\n",
      "4     10854555  K00755.01   Kepler-664 b       CONFIRMED        1.0\n",
      "...        ...        ...            ...             ...        ...\n",
      "7612  11125797  K03371.02  Kepler-1482 b       CONFIRMED        1.0\n",
      "8817   7350067  K06863.01  Kepler-1646 b       CONFIRMED        1.0\n"
     ]
    }
   ],
   "source": [
    "# Select confirmed exoplanets with a disposition score equal to 1.0:\n",
    "cols = ['kepid', 'kepoi_name', 'kepler_name', 'koi_disposition', 'koi_score']\n",
    "df_confirmed = df[(df[\"koi_disposition\"] == \"CONFIRMED\") & (df[\"koi_score\"] == 1.0)]\n",
    "print (df_confirmed.to_string(columns=cols, max_rows=4))\n"
   ]
  },
  {
   "cell_type": "code",
   "execution_count": 19,
   "metadata": {},
   "outputs": [
    {
     "name": "stdout",
     "output_type": "stream",
     "text": [
      "         kepid kepoi_name   kepler_name koi_disposition koi_pdisposition  koi_score\n",
      "0     10797460  K00752.01  Kepler-227 b       CONFIRMED        CANDIDATE      1.000\n",
      "1     10797460  K00752.02  Kepler-227 c       CONFIRMED        CANDIDATE      0.969\n",
      "...        ...        ...           ...             ...              ...        ...\n",
      "9562  10155286  K07988.01           NaN       CANDIDATE        CANDIDATE      0.092\n",
      "9563  10156110  K07989.01           NaN  FALSE POSITIVE   FALSE POSITIVE      0.000\n"
     ]
    }
   ],
   "source": [
    "# Show columns upto and include 'koi_score':\n",
    "print (df.loc[:, :'koi_score'].to_string(max_rows=4))\n"
   ]
  },
  {
   "cell_type": "code",
   "execution_count": 20,
   "metadata": {},
   "outputs": [
    {
     "name": "stdout",
     "output_type": "stream",
     "text": [
      "         kepid kepoi_name    kepler_name koi_disposition koi_pdisposition  koi_score\n",
      "0     10797460  K00752.01   Kepler-227 b       CONFIRMED        CANDIDATE        1.0\n",
      "4     10854555  K00755.01   Kepler-664 b       CONFIRMED        CANDIDATE        1.0\n",
      "...        ...        ...            ...             ...              ...        ...\n",
      "7612  11125797  K03371.02  Kepler-1482 b       CONFIRMED        CANDIDATE        1.0\n",
      "8817   7350067  K06863.01  Kepler-1646 b       CONFIRMED        CANDIDATE        1.0\n"
     ]
    }
   ],
   "source": [
    "# Take rows and columns of interest:\n",
    "cond1 = df[\"koi_disposition\"] == \"CONFIRMED\"\n",
    "cond2 = df[\"koi_score\"] == 1.0\n",
    "df_interest = df.loc[cond1 & cond2, 'kepid':'koi_score']\n",
    "print(df_interest.to_string(max_rows=4))"
   ]
  },
  {
   "cell_type": "code",
   "execution_count": 47,
   "metadata": {},
   "outputs": [
    {
     "name": "stdout",
     "output_type": "stream",
     "text": [
      "                      w   x   y   z\n",
      "2019-01-01 00:00:00   0   1   2   3\n",
      "2019-01-01 00:01:00   4   5   6   7\n",
      "2019-01-01 00:02:00   8   9  10  11\n",
      "2019-01-01 00:03:00  12  13  14  15\n",
      "2019-01-01 00:04:00  16  17  18  19\n"
     ]
    }
   ],
   "source": [
    "# Create a dataframe from collection data, named columns, and periodic datetimes for the index:\n",
    "dates = pd.date_range(start=\"2019-01-01\", periods=5, freq=\"min\")\n",
    "data = np.split(np.arange(20), 5)\n",
    "df_data = pd.DataFrame(data, columns=[\"w\",\"x\",\"y\",\"z\"], index=dates)\n",
    "print(df_data.to_string())"
   ]
  },
  {
   "cell_type": "code",
   "execution_count": 49,
   "metadata": {},
   "outputs": [
    {
     "data": {
      "text/plain": [
       "DatetimeIndex(['2019-01-01 00:00:00', '2019-01-01 00:01:00',\n",
       "               '2019-01-01 00:02:00', '2019-01-01 00:03:00',\n",
       "               '2019-01-01 00:04:00'],\n",
       "              dtype='datetime64[ns]', freq='T')"
      ]
     },
     "execution_count": 49,
     "metadata": {},
     "output_type": "execute_result"
    }
   ],
   "source": [
    "# Show the datetime index:\n",
    "df_data.index"
   ]
  },
  {
   "cell_type": "code",
   "execution_count": null,
   "metadata": {},
   "outputs": [],
   "source": []
  }
 ],
 "metadata": {
  "kernelspec": {
   "display_name": "Python 3",
   "language": "python",
   "name": "python3"
  },
  "language_info": {
   "codemirror_mode": {
    "name": "ipython",
    "version": 3
   },
   "file_extension": ".py",
   "mimetype": "text/x-python",
   "name": "python",
   "nbconvert_exporter": "python",
   "pygments_lexer": "ipython3",
   "version": "3.7.3"
  }
 },
 "nbformat": 4,
 "nbformat_minor": 4
}
