{
 "cells": [
  {
   "cell_type": "code",
   "execution_count": 95,
   "metadata": {},
   "outputs": [
    {
     "data": {
      "text/plain": [
       "'0.25.2'"
      ]
     },
     "execution_count": 95,
     "metadata": {},
     "output_type": "execute_result"
    }
   ],
   "source": [
    "import numpy as np\n",
    "import pandas as pd\n",
    "pd.__version__"
   ]
  },
  {
   "cell_type": "code",
   "execution_count": 96,
   "metadata": {},
   "outputs": [],
   "source": [
    "# constants\n",
    "tuples = [(False, 99.0,  0,  23, \"abc\"),\n",
    "          (True,  -42.0, -1, 99, \"xyz\"),\n",
    "          (False, 0.0,   42, 42, \"def\"),\n",
    "          (True,  None,  99, -1, \"jkl\"),\n",
    "          (False, 16.66, 23, 0, \"ghi\")]\n",
    "\n",
    "obj_index = (\"m\",\"n\",\"o\",\"p\",\"q\")\n",
    "int64_index = (6, 7, 8, 9, 10)\n",
    "bool_index = (True, False, True, False, True)\n",
    "double64_index = (6.1, 6.2, 6.3, 6.4, 6.5)\n"
   ]
  },
  {
   "cell_type": "code",
   "execution_count": 97,
   "metadata": {},
   "outputs": [],
   "source": [
    "##\n",
    "## dataframe tests\n",
    "##"
   ]
  },
  {
   "cell_type": "code",
   "execution_count": 98,
   "metadata": {},
   "outputs": [
    {
     "name": "stdout",
     "output_type": "stream",
     "text": [
      "DataFrame tests:\n",
      "\n",
      "        m      n   o   p    q\n",
      "6   False  99.00   0  23  abc\n",
      "7    True -42.00  -1  99  xyz\n",
      "8   False   0.00  42  42  def\n",
      "9    True    NaN  99  -1  jkl\n",
      "10  False  16.66  23   0  ghi\n"
     ]
    }
   ],
   "source": [
    "# data\n",
    "columns = obj_index\n",
    "index = int64_index\n",
    "df = pd.DataFrame(tuples, columns = columns, index = index)\n",
    "print('DataFrame tests:\\n') \n",
    "print(df.to_string())"
   ]
  },
  {
   "cell_type": "code",
   "execution_count": 79,
   "metadata": {},
   "outputs": [],
   "source": [
    "# expected shape, columns and index\n",
    "assert((len(index), len(columns)) == df.shape)\n",
    "assert(np.array_equal(columns, df.columns.to_numpy()))\n",
    "assert(np.array_equal(index, df.index.to_numpy()))"
   ]
  },
  {
   "cell_type": "code",
   "execution_count": 154,
   "metadata": {},
   "outputs": [],
   "source": [
    "##\n",
    "## loc tests\n",
    "##"
   ]
  },
  {
   "cell_type": "code",
   "execution_count": 81,
   "metadata": {},
   "outputs": [
    {
     "name": "stdout",
     "output_type": "stream",
     "text": [
      "m    False\n",
      "n       99\n",
      "o        0\n",
      "p       23\n",
      "q      abc\n"
     ]
    }
   ],
   "source": [
    "# take single index\n",
    "expected = pd.Series(tuples[0], index = columns)\n",
    "print (expected.to_string())\n",
    "assert(expected.equals(df.loc[6]))"
   ]
  },
  {
   "cell_type": "code",
   "execution_count": 82,
   "metadata": {},
   "outputs": [
    {
     "name": "stdout",
     "output_type": "stream",
     "text": [
      "m    False\n",
      "n       99\n"
     ]
    }
   ],
   "source": [
    "# take single index, two columns\n",
    "expected = pd.Series(list(tuples[0])[0:2], index = columns[0:2])\n",
    "print (expected.to_string())\n",
    "assert(expected.equals(df.loc[index[0], list(columns[0:2])]))"
   ]
  },
  {
   "cell_type": "code",
   "execution_count": 83,
   "metadata": {},
   "outputs": [
    {
     "name": "stdout",
     "output_type": "stream",
     "text": [
      "       m     n  o   p    q\n",
      "6  False  99.0  0  23  abc\n",
      "7   True -42.0 -1  99  xyz\n"
     ]
    }
   ],
   "source": [
    "# take two indices\n",
    "expected = pd.DataFrame(tuples[0:2], columns = columns, index = index[0:2])\n",
    "print (expected.to_string())\n",
    "assert(expected.equals(df.loc[list(index[0:2])]))"
   ]
  },
  {
   "cell_type": "code",
   "execution_count": 84,
   "metadata": {},
   "outputs": [
    {
     "name": "stdout",
     "output_type": "stream",
     "text": [
      "       m     n\n",
      "6  False  99.0\n",
      "7   True -42.0\n"
     ]
    }
   ],
   "source": [
    "# take two indices, two columns\n",
    "data = [list(tuples[0][0:2]), list(tuples[1][0:2])]\n",
    "expected = pd.DataFrame(data, columns = columns[0:2], index = index[0:2])\n",
    "print (expected.to_string())\n",
    "assert(expected.equals(df.loc[list(index[0:2]), list(columns[0:2])]))"
   ]
  },
  {
   "cell_type": "code",
   "execution_count": 85,
   "metadata": {},
   "outputs": [],
   "source": [
    "##\n",
    "## sort_values tests\n",
    "##"
   ]
  },
  {
   "cell_type": "code",
   "execution_count": 86,
   "metadata": {},
   "outputs": [
    {
     "name": "stdout",
     "output_type": "stream",
     "text": [
      "sort_values tests:\n",
      "\n",
      "        m      n   o   p    q\n",
      "6   False  99.00   0  23  abc\n",
      "7    True -42.00  -1  99  xyz\n",
      "8   False   0.00  42  42  def\n",
      "9    True    NaN  99  -1  jkl\n",
      "10  False  16.66  23   0  ghi\n"
     ]
    }
   ],
   "source": [
    "## data\n",
    "columns = obj_index\n",
    "index = int64_index\n",
    "df = pd.DataFrame(tuples, columns = columns, index = index)\n",
    "print('sort_values tests:\\n') \n",
    "print(df.to_string())"
   ]
  },
  {
   "cell_type": "code",
   "execution_count": 87,
   "metadata": {},
   "outputs": [
    {
     "name": "stdout",
     "output_type": "stream",
     "text": [
      "Sort by column: m\n",
      "\n",
      "        m      n   o   p    q\n",
      "6   False  99.00   0  23  abc\n",
      "8   False   0.00  42  42  def\n",
      "10  False  16.66  23   0  ghi\n",
      "7    True -42.00  -1  99  xyz\n",
      "9    True    NaN  99  -1  jkl\n",
      "\n",
      "\n",
      "Sort by column: n\n",
      "\n",
      "        m      n   o   p    q\n",
      "7    True -42.00  -1  99  xyz\n",
      "8   False   0.00  42  42  def\n",
      "10  False  16.66  23   0  ghi\n",
      "6   False  99.00   0  23  abc\n",
      "9    True    NaN  99  -1  jkl\n",
      "\n",
      "\n",
      "Sort by column: o\n",
      "\n",
      "        m      n   o   p    q\n",
      "7    True -42.00  -1  99  xyz\n",
      "6   False  99.00   0  23  abc\n",
      "10  False  16.66  23   0  ghi\n",
      "8   False   0.00  42  42  def\n",
      "9    True    NaN  99  -1  jkl\n",
      "\n",
      "\n",
      "Sort by column: p\n",
      "\n",
      "        m      n   o   p    q\n",
      "9    True    NaN  99  -1  jkl\n",
      "10  False  16.66  23   0  ghi\n",
      "6   False  99.00   0  23  abc\n",
      "8   False   0.00  42  42  def\n",
      "7    True -42.00  -1  99  xyz\n",
      "\n",
      "\n",
      "Sort by column: q\n",
      "\n",
      "        m      n   o   p    q\n",
      "6   False  99.00   0  23  abc\n",
      "8   False   0.00  42  42  def\n",
      "10  False  16.66  23   0  ghi\n",
      "9    True    NaN  99  -1  jkl\n",
      "7    True -42.00  -1  99  xyz\n",
      "\n",
      "\n"
     ]
    }
   ],
   "source": [
    "# sort by one column\n",
    "expected = [[6, 8, 10, 7, 9],\n",
    "            [7, 8, 10, 6, 9],\n",
    "            [7, 6, 10, 8, 9],\n",
    "            [9, 10, 6, 8, 7],\n",
    "            [6, 8, 10, 9, 7]]\n",
    "for idx in range(len(columns)):\n",
    "  print('Sort by column: {0}\\n'.format(columns[idx])) \n",
    "  dfs = df.sort_values(by=columns[idx])\n",
    "  print(dfs.to_string())\n",
    "  print(\"\\n\")\n",
    "  assert(expected[idx] == dfs.index.to_list())"
   ]
  },
  {
   "cell_type": "code",
   "execution_count": 88,
   "metadata": {},
   "outputs": [
    {
     "name": "stdout",
     "output_type": "stream",
     "text": [
      "Sort by columns: [m, n]\n",
      "\n",
      "        m      n   o   p    q\n",
      "8   False   0.00  42  42  def\n",
      "10  False  16.66  23   0  ghi\n",
      "6   False  99.00   0  23  abc\n",
      "7    True -42.00  -1  99  xyz\n",
      "9    True    NaN  99  -1  jkl\n",
      "\n",
      "\n",
      "Sort by columns: [n, o]\n",
      "\n",
      "        m      n   o   p    q\n",
      "7    True -42.00  -1  99  xyz\n",
      "8   False   0.00  42  42  def\n",
      "10  False  16.66  23   0  ghi\n",
      "6   False  99.00   0  23  abc\n",
      "9    True    NaN  99  -1  jkl\n",
      "\n",
      "\n",
      "Sort by columns: [o, p]\n",
      "\n",
      "        m      n   o   p    q\n",
      "7    True -42.00  -1  99  xyz\n",
      "6   False  99.00   0  23  abc\n",
      "10  False  16.66  23   0  ghi\n",
      "8   False   0.00  42  42  def\n",
      "9    True    NaN  99  -1  jkl\n",
      "\n",
      "\n",
      "Sort by columns: [p, q]\n",
      "\n",
      "        m      n   o   p    q\n",
      "9    True    NaN  99  -1  jkl\n",
      "10  False  16.66  23   0  ghi\n",
      "6   False  99.00   0  23  abc\n",
      "8   False   0.00  42  42  def\n",
      "7    True -42.00  -1  99  xyz\n",
      "\n",
      "\n"
     ]
    }
   ],
   "source": [
    "# sort by two columns\n",
    "expected = [[8, 10, 6, 7, 9],\n",
    "            [7, 8, 10, 6, 9],\n",
    "            [7, 6, 10, 8, 9],\n",
    "            [9, 10, 6, 8, 7]]\n",
    "for idx in range(len(columns) - 1):\n",
    "  dfs = df.sort_values(by=[columns[idx], columns[idx+1]])\n",
    "  print('Sort by columns: [{0}, {1}]\\n'.format(columns[idx], columns[idx+1]))\n",
    "  print(dfs.to_string())\n",
    "  print(\"\\n\")\n",
    "  assert(expected[idx] == dfs.index.to_list())"
   ]
  },
  {
   "cell_type": "code",
   "execution_count": 93,
   "metadata": {},
   "outputs": [
    {
     "name": "stdout",
     "output_type": "stream",
     "text": [
      "Sort by columns: ('m', 'n', 'o', 'p', 'q')\n",
      "\n",
      "        m      n   o   p    q\n",
      "8   False   0.00  42  42  def\n",
      "10  False  16.66  23   0  ghi\n",
      "6   False  99.00   0  23  abc\n",
      "7    True -42.00  -1  99  xyz\n",
      "9    True    NaN  99  -1  jkl\n",
      "\n",
      "\n"
     ]
    }
   ],
   "source": [
    "# sort by all columns\n",
    "expected = [8, 10, 6, 7, 9]\n",
    "dfs = df.sort_values(list(columns))\n",
    "print('Sort by columns: {0}\\n'.format(columns))\n",
    "print(dfs.to_string())\n",
    "print(\"\\n\")\n",
    "assert(expected == dfs.index.to_list())"
   ]
  },
  {
   "cell_type": "code",
   "execution_count": 94,
   "metadata": {},
   "outputs": [
    {
     "name": "stdout",
     "output_type": "stream",
     "text": [
      "'>' not supported between instances of 'numpy.ndarray' and 'str'\n",
      "'>' not supported between instances of 'numpy.ndarray' and 'str'\n",
      "'>' not supported between instances of 'numpy.ndarray' and 'str'\n",
      "'>' not supported between instances of 'numpy.ndarray' and 'str'\n",
      "'>' not supported between instances of 'numpy.ndarray' and 'str'\n"
     ]
    }
   ],
   "source": [
    "# sort by one index\n",
    "for idx in range(len(index)):\n",
    "  try: \n",
    "        dfs = df.sort_values(by=index[idx], axis=1)\n",
    "  except TypeError as e:\n",
    "    print(str(e))\n",
    "    assert(str(e).startswith(\"'>' not supported between instances\"))"
   ]
  },
  {
   "cell_type": "code",
   "execution_count": 182,
   "metadata": {},
   "outputs": [
    {
     "name": "stdout",
     "output_type": "stream",
     "text": [
      "0    4\n",
      "1    7\n",
      "2   -5\n",
      "3    3\n",
      "Length: 4\n"
     ]
    },
    {
     "data": {
      "text/plain": [
       "0    4\n",
       "1    7\n",
       "2   -5\n",
       "3    3\n",
       "dtype: int64"
      ]
     },
     "execution_count": 182,
     "metadata": {},
     "output_type": "execute_result"
    }
   ],
   "source": [
    "print (pd.Series([4, 7, -5, 3]).to_string(length=True))\n",
    "pd.Series([4, 7, -5, 3])"
   ]
  },
  {
   "cell_type": "code",
   "execution_count": 200,
   "metadata": {},
   "outputs": [],
   "source": [
    "obj2 = pd.Series([4, 7, -5, 3], index=['d', 'b', 'a', 'c'])"
   ]
  },
  {
   "cell_type": "code",
   "execution_count": 201,
   "metadata": {},
   "outputs": [
    {
     "data": {
      "text/plain": [
       "d    4\n",
       "b    7\n",
       "dtype: int64"
      ]
     },
     "execution_count": 201,
     "metadata": {},
     "output_type": "execute_result"
    }
   ],
   "source": [
    "obj2[[\"d\",\"b\"]]"
   ]
  },
  {
   "cell_type": "code",
   "execution_count": 202,
   "metadata": {},
   "outputs": [],
   "source": [
    "obj2[\"d\"] = 46.7"
   ]
  },
  {
   "cell_type": "code",
   "execution_count": 203,
   "metadata": {},
   "outputs": [
    {
     "data": {
      "text/plain": [
       "d    46\n",
       "b     7\n",
       "a    -5\n",
       "c     3\n",
       "dtype: int64"
      ]
     },
     "execution_count": 203,
     "metadata": {},
     "output_type": "execute_result"
    }
   ],
   "source": [
    "obj2"
   ]
  },
  {
   "cell_type": "code",
   "execution_count": null,
   "metadata": {},
   "outputs": [],
   "source": []
  }
 ],
 "metadata": {
  "kernelspec": {
   "display_name": "Python 3",
   "language": "python",
   "name": "python3"
  },
  "language_info": {
   "codemirror_mode": {
    "name": "ipython",
    "version": 3
   },
   "file_extension": ".py",
   "mimetype": "text/x-python",
   "name": "python",
   "nbconvert_exporter": "python",
   "pygments_lexer": "ipython3",
   "version": "3.7.3"
  }
 },
 "nbformat": 4,
 "nbformat_minor": 2
}
