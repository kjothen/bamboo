{
 "cells": [
  {
   "cell_type": "code",
   "execution_count": 95,
   "metadata": {},
   "outputs": [
    {
     "data": {
      "text/plain": [
       "'0.25.2'"
      ]
     },
     "execution_count": 95,
     "metadata": {},
     "output_type": "execute_result"
    }
   ],
   "source": [
    "import numpy as np\n",
    "import pandas as pd\n",
    "pd.__version__"
   ]
  },
  {
   "cell_type": "code",
   "execution_count": 96,
   "metadata": {},
   "outputs": [],
   "source": [
    "# constants\n",
    "tuples = [(False, 99.0,  0,  23, \"abc\"),\n",
    "          (True,  -42.0, -1, 99, \"xyz\"),\n",
    "          (False, 0.0,   42, 42, \"def\"),\n",
    "          (True,  None,  99, -1, \"jkl\"),\n",
    "          (False, 16.66, 23, 0, \"ghi\")]\n",
    "\n",
    "obj_index = (\"m\",\"n\",\"o\",\"p\",\"q\")\n",
    "int64_index = (6, 7, 8, 9, 10)\n",
    "bool_index = (True, False, True, False, True)\n",
    "double64_index = (6.1, 6.2, 6.3, 6.4, 6.5)\n"
   ]
  },
  {
   "cell_type": "code",
   "execution_count": 97,
   "metadata": {},
   "outputs": [],
   "source": [
    "##\n",
    "## dataframe tests\n",
    "##"
   ]
  },
  {
   "cell_type": "code",
   "execution_count": 98,
   "metadata": {},
   "outputs": [
    {
     "name": "stdout",
     "output_type": "stream",
     "text": [
      "DataFrame tests:\n",
      "\n",
      "        m      n   o   p    q\n",
      "6   False  99.00   0  23  abc\n",
      "7    True -42.00  -1  99  xyz\n",
      "8   False   0.00  42  42  def\n",
      "9    True    NaN  99  -1  jkl\n",
      "10  False  16.66  23   0  ghi\n"
     ]
    }
   ],
   "source": [
    "# data\n",
    "columns = obj_index\n",
    "index = int64_index\n",
    "df = pd.DataFrame(tuples, columns = columns, index = index)\n",
    "print('DataFrame tests:\\n') \n",
    "print(df.to_string())"
   ]
  },
  {
   "cell_type": "code",
   "execution_count": 79,
   "metadata": {},
   "outputs": [],
   "source": [
    "# expected shape, columns and index\n",
    "assert((len(index), len(columns)) == df.shape)\n",
    "assert(np.array_equal(columns, df.columns.to_numpy()))\n",
    "assert(np.array_equal(index, df.index.to_numpy()))"
   ]
  },
  {
   "cell_type": "code",
   "execution_count": 80,
   "metadata": {},
   "outputs": [],
   "source": [
    "##\n",
    "## loc tests\n",
    "##"
   ]
  },
  {
   "cell_type": "code",
   "execution_count": 81,
   "metadata": {},
   "outputs": [
    {
     "name": "stdout",
     "output_type": "stream",
     "text": [
      "m    False\n",
      "n       99\n",
      "o        0\n",
      "p       23\n",
      "q      abc\n"
     ]
    }
   ],
   "source": [
    "# take single index\n",
    "expected = pd.Series(tuples[0], index = columns)\n",
    "print (expected.to_string())\n",
    "assert(expected.equals(df.loc[6]))"
   ]
  },
  {
   "cell_type": "code",
   "execution_count": 82,
   "metadata": {},
   "outputs": [
    {
     "name": "stdout",
     "output_type": "stream",
     "text": [
      "m    False\n",
      "n       99\n"
     ]
    }
   ],
   "source": [
    "# take single index, two columns\n",
    "expected = pd.Series(list(tuples[0])[0:2], index = columns[0:2])\n",
    "print (expected.to_string())\n",
    "assert(expected.equals(df.loc[index[0], list(columns[0:2])]))"
   ]
  },
  {
   "cell_type": "code",
   "execution_count": 83,
   "metadata": {},
   "outputs": [
    {
     "name": "stdout",
     "output_type": "stream",
     "text": [
      "       m     n  o   p    q\n",
      "6  False  99.0  0  23  abc\n",
      "7   True -42.0 -1  99  xyz\n"
     ]
    }
   ],
   "source": [
    "# take two indices\n",
    "expected = pd.DataFrame(tuples[0:2], columns = columns, index = index[0:2])\n",
    "print (expected.to_string())\n",
    "assert(expected.equals(df.loc[list(index[0:2])]))"
   ]
  },
  {
   "cell_type": "code",
   "execution_count": 84,
   "metadata": {},
   "outputs": [
    {
     "name": "stdout",
     "output_type": "stream",
     "text": [
      "       m     n\n",
      "6  False  99.0\n",
      "7   True -42.0\n"
     ]
    }
   ],
   "source": [
    "# take two indices, two columns\n",
    "data = [list(tuples[0][0:2]), list(tuples[1][0:2])]\n",
    "expected = pd.DataFrame(data, columns = columns[0:2], index = index[0:2])\n",
    "print (expected.to_string())\n",
    "assert(expected.equals(df.loc[list(index[0:2]), list(columns[0:2])]))"
   ]
  },
  {
   "cell_type": "code",
   "execution_count": 85,
   "metadata": {},
   "outputs": [],
   "source": [
    "##\n",
    "## sort_values tests\n",
    "##"
   ]
  },
  {
   "cell_type": "code",
   "execution_count": 86,
   "metadata": {},
   "outputs": [
    {
     "name": "stdout",
     "output_type": "stream",
     "text": [
      "sort_values tests:\n",
      "\n",
      "        m      n   o   p    q\n",
      "6   False  99.00   0  23  abc\n",
      "7    True -42.00  -1  99  xyz\n",
      "8   False   0.00  42  42  def\n",
      "9    True    NaN  99  -1  jkl\n",
      "10  False  16.66  23   0  ghi\n"
     ]
    }
   ],
   "source": [
    "## data\n",
    "columns = obj_index\n",
    "index = int64_index\n",
    "df = pd.DataFrame(tuples, columns = columns, index = index)\n",
    "print('sort_values tests:\\n') \n",
    "print(df.to_string())"
   ]
  },
  {
   "cell_type": "code",
   "execution_count": 87,
   "metadata": {},
   "outputs": [
    {
     "name": "stdout",
     "output_type": "stream",
     "text": [
      "Sort by column: m\n",
      "\n",
      "        m      n   o   p    q\n",
      "6   False  99.00   0  23  abc\n",
      "8   False   0.00  42  42  def\n",
      "10  False  16.66  23   0  ghi\n",
      "7    True -42.00  -1  99  xyz\n",
      "9    True    NaN  99  -1  jkl\n",
      "\n",
      "\n",
      "Sort by column: n\n",
      "\n",
      "        m      n   o   p    q\n",
      "7    True -42.00  -1  99  xyz\n",
      "8   False   0.00  42  42  def\n",
      "10  False  16.66  23   0  ghi\n",
      "6   False  99.00   0  23  abc\n",
      "9    True    NaN  99  -1  jkl\n",
      "\n",
      "\n",
      "Sort by column: o\n",
      "\n",
      "        m      n   o   p    q\n",
      "7    True -42.00  -1  99  xyz\n",
      "6   False  99.00   0  23  abc\n",
      "10  False  16.66  23   0  ghi\n",
      "8   False   0.00  42  42  def\n",
      "9    True    NaN  99  -1  jkl\n",
      "\n",
      "\n",
      "Sort by column: p\n",
      "\n",
      "        m      n   o   p    q\n",
      "9    True    NaN  99  -1  jkl\n",
      "10  False  16.66  23   0  ghi\n",
      "6   False  99.00   0  23  abc\n",
      "8   False   0.00  42  42  def\n",
      "7    True -42.00  -1  99  xyz\n",
      "\n",
      "\n",
      "Sort by column: q\n",
      "\n",
      "        m      n   o   p    q\n",
      "6   False  99.00   0  23  abc\n",
      "8   False   0.00  42  42  def\n",
      "10  False  16.66  23   0  ghi\n",
      "9    True    NaN  99  -1  jkl\n",
      "7    True -42.00  -1  99  xyz\n",
      "\n",
      "\n"
     ]
    }
   ],
   "source": [
    "# sort by one column\n",
    "expected = [[6, 8, 10, 7, 9],\n",
    "            [7, 8, 10, 6, 9],\n",
    "            [7, 6, 10, 8, 9],\n",
    "            [9, 10, 6, 8, 7],\n",
    "            [6, 8, 10, 9, 7]]\n",
    "for idx in range(len(columns)):\n",
    "  print('Sort by column: {0}\\n'.format(columns[idx])) \n",
    "  dfs = df.sort_values(by=columns[idx])\n",
    "  print(dfs.to_string())\n",
    "  print(\"\\n\")\n",
    "  assert(expected[idx] == dfs.index.to_list())"
   ]
  },
  {
   "cell_type": "code",
   "execution_count": 88,
   "metadata": {},
   "outputs": [
    {
     "name": "stdout",
     "output_type": "stream",
     "text": [
      "Sort by columns: [m, n]\n",
      "\n",
      "        m      n   o   p    q\n",
      "8   False   0.00  42  42  def\n",
      "10  False  16.66  23   0  ghi\n",
      "6   False  99.00   0  23  abc\n",
      "7    True -42.00  -1  99  xyz\n",
      "9    True    NaN  99  -1  jkl\n",
      "\n",
      "\n",
      "Sort by columns: [n, o]\n",
      "\n",
      "        m      n   o   p    q\n",
      "7    True -42.00  -1  99  xyz\n",
      "8   False   0.00  42  42  def\n",
      "10  False  16.66  23   0  ghi\n",
      "6   False  99.00   0  23  abc\n",
      "9    True    NaN  99  -1  jkl\n",
      "\n",
      "\n",
      "Sort by columns: [o, p]\n",
      "\n",
      "        m      n   o   p    q\n",
      "7    True -42.00  -1  99  xyz\n",
      "6   False  99.00   0  23  abc\n",
      "10  False  16.66  23   0  ghi\n",
      "8   False   0.00  42  42  def\n",
      "9    True    NaN  99  -1  jkl\n",
      "\n",
      "\n",
      "Sort by columns: [p, q]\n",
      "\n",
      "        m      n   o   p    q\n",
      "9    True    NaN  99  -1  jkl\n",
      "10  False  16.66  23   0  ghi\n",
      "6   False  99.00   0  23  abc\n",
      "8   False   0.00  42  42  def\n",
      "7    True -42.00  -1  99  xyz\n",
      "\n",
      "\n"
     ]
    }
   ],
   "source": [
    "# sort by two columns\n",
    "expected = [[8, 10, 6, 7, 9],\n",
    "            [7, 8, 10, 6, 9],\n",
    "            [7, 6, 10, 8, 9],\n",
    "            [9, 10, 6, 8, 7]]\n",
    "for idx in range(len(columns) - 1):\n",
    "  dfs = df.sort_values(by=[columns[idx], columns[idx+1]])\n",
    "  print('Sort by columns: [{0}, {1}]\\n'.format(columns[idx], columns[idx+1]))\n",
    "  print(dfs.to_string())\n",
    "  print(\"\\n\")\n",
    "  assert(expected[idx] == dfs.index.to_list())"
   ]
  },
  {
   "cell_type": "code",
   "execution_count": 93,
   "metadata": {},
   "outputs": [
    {
     "name": "stdout",
     "output_type": "stream",
     "text": [
      "Sort by columns: ('m', 'n', 'o', 'p', 'q')\n",
      "\n",
      "        m      n   o   p    q\n",
      "8   False   0.00  42  42  def\n",
      "10  False  16.66  23   0  ghi\n",
      "6   False  99.00   0  23  abc\n",
      "7    True -42.00  -1  99  xyz\n",
      "9    True    NaN  99  -1  jkl\n",
      "\n",
      "\n"
     ]
    }
   ],
   "source": [
    "# sort by all columns\n",
    "expected = [8, 10, 6, 7, 9]\n",
    "dfs = df.sort_values(list(columns))\n",
    "print('Sort by columns: {0}\\n'.format(columns))\n",
    "print(dfs.to_string())\n",
    "print(\"\\n\")\n",
    "assert(expected == dfs.index.to_list())"
   ]
  },
  {
   "cell_type": "code",
   "execution_count": 94,
   "metadata": {},
   "outputs": [
    {
     "name": "stdout",
     "output_type": "stream",
     "text": [
      "'>' not supported between instances of 'numpy.ndarray' and 'str'\n",
      "'>' not supported between instances of 'numpy.ndarray' and 'str'\n",
      "'>' not supported between instances of 'numpy.ndarray' and 'str'\n",
      "'>' not supported between instances of 'numpy.ndarray' and 'str'\n",
      "'>' not supported between instances of 'numpy.ndarray' and 'str'\n"
     ]
    }
   ],
   "source": [
    "# sort by one index\n",
    "for idx in range(len(index)):\n",
    "  try: \n",
    "        dfs = df.sort_values(by=index[idx], axis=1)\n",
    "  except TypeError as e:\n",
    "    print(str(e))\n",
    "    assert(str(e).startswith(\"'>' not supported between instances\"))"
   ]
  },
  {
   "cell_type": "code",
   "execution_count": 152,
   "metadata": {},
   "outputs": [
    {
     "data": {
      "text/plain": [
       "array([ 1.0004,  1.6004,  2.2004,  2.8004,  3.4004,  4.0004,  4.6004,\n",
       "        5.2004,  5.8004,  6.4004,  7.0004,  7.6004,  8.2004,  8.8004,\n",
       "        9.4004, 10.0004, 10.6004, 11.2004, 11.8004, 12.4004, 13.0004,\n",
       "       13.6004, 14.2004, 14.8004, 15.4004, 16.0004, 16.6004, 17.2004,\n",
       "       17.8004, 18.4004, 19.0004, 19.6004, 20.2004, 20.8004, 21.4004,\n",
       "       22.0004, 22.6004, 23.2004, 23.8004, 24.4004, 25.0004, 25.6004,\n",
       "       26.2004, 26.8004, 27.4004, 28.0004, 28.6004, 29.2004, 29.8004,\n",
       "       30.4004, 31.0004, 31.6004, 32.2004, 32.8004, 33.4004, 34.0004,\n",
       "       34.6004, 35.2004, 35.8004, 36.4004, 37.0004, 37.6004, 38.2004,\n",
       "       38.8004, 39.4004, 40.0004, 40.6004, 41.2004, 41.8004, 42.4004,\n",
       "       43.0004, 43.6004, 44.2004, 44.8004, 45.4004, 46.0004, 46.6004,\n",
       "       47.2004, 47.8004, 48.4004, 49.0004, 49.6004, 50.2004, 50.8004,\n",
       "       51.4004, 52.0004, 52.6004, 53.2004, 53.8004, 54.4004, 55.0004,\n",
       "       55.6004, 56.2004, 56.8004, 57.4004, 58.0004, 58.6004, 59.2004,\n",
       "       59.8004, 60.4004, 61.0004, 61.6004, 62.2004, 62.8004, 63.4004,\n",
       "       64.0004, 64.6004, 65.2004, 65.8004, 66.4004, 67.0004, 67.6004,\n",
       "       68.2004, 68.8004, 69.4004, 70.0004, 70.6004, 71.2004, 71.8004,\n",
       "       72.4004, 73.0004, 73.6004, 74.2004, 74.8004, 75.4004, 76.0004,\n",
       "       76.6004, 77.2004, 77.8004, 78.4004, 79.0004, 79.6004, 80.2004,\n",
       "       80.8004, 81.4004, 82.0004, 82.6004, 83.2004, 83.8004, 84.4004,\n",
       "       85.0004, 85.6004, 86.2004, 86.8004, 87.4004, 88.0004, 88.6004,\n",
       "       89.2004, 89.8004, 90.4004, 91.0004, 91.6004, 92.2004, 92.8004,\n",
       "       93.4004, 94.0004, 94.6004, 95.2004, 95.8004, 96.4004, 97.0004,\n",
       "       97.6004, 98.2004, 98.8004, 99.4004])"
      ]
     },
     "execution_count": 152,
     "metadata": {},
     "output_type": "execute_result"
    }
   ],
   "source": [
    "np.arange(1.0004, 99.5, 0.6)"
   ]
  },
  {
   "cell_type": "code",
   "execution_count": null,
   "metadata": {},
   "outputs": [],
   "source": []
  }
 ],
 "metadata": {
  "kernelspec": {
   "display_name": "Python 3",
   "language": "python",
   "name": "python3"
  },
  "language_info": {
   "codemirror_mode": {
    "name": "ipython",
    "version": 3
   },
   "file_extension": ".py",
   "mimetype": "text/x-python",
   "name": "python",
   "nbconvert_exporter": "python",
   "pygments_lexer": "ipython3",
   "version": "3.7.3"
  }
 },
 "nbformat": 4,
 "nbformat_minor": 2
}
